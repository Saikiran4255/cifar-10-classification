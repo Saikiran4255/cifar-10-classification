{
 "cells": [
  {
   "cell_type": "markdown",
   "id": "eeac9893",
   "metadata": {},
   "source": [
    "## Enhancing Image Classification Performance Through Architectural Exploration and Hyperparameter Tuning on CIFAR-10 Dataset"
   ]
  },
  {
   "cell_type": "code",
   "execution_count": 1,
   "id": "c4824fea",
   "metadata": {},
   "outputs": [],
   "source": [
    "#import the required packages\n",
    "import torch\n",
    "import torch.nn as nn\n",
    "import torch.optim as optim\n",
    "from torchvision import datasets, transforms\n",
    "from torch.utils.data import DataLoader"
   ]
  },
  {
   "cell_type": "code",
   "execution_count": 2,
   "id": "6aa40f28",
   "metadata": {},
   "outputs": [],
   "source": [
    "# Data Augmentation and Normalization\n",
    "transform_train = transforms.Compose([\n",
    "    transforms.RandomHorizontalFlip(),\n",
    "    transforms.RandomRotation(10),\n",
    "    transforms.RandomAffine(0, shear=10, scale=(0.8, 1.2)),\n",
    "    transforms.ColorJitter(brightness=0.2, contrast=0.2, saturation=0.2),\n",
    "    transforms.ToTensor(),\n",
    "    transforms.Normalize((0.5, 0.5, 0.5), (0.5, 0.5, 0.5)),\n",
    "])\n",
    "\n",
    "transform_test = transforms.Compose([\n",
    "    transforms.ToTensor(),\n",
    "    transforms.Normalize((0.5, 0.5, 0.5), (0.5, 0.5, 0.5)),\n",
    "])"
   ]
  },
  {
   "cell_type": "code",
   "execution_count": 3,
   "id": "ebfd87fa",
   "metadata": {},
   "outputs": [
    {
     "name": "stdout",
     "output_type": "stream",
     "text": [
      "Files already downloaded and verified\n",
      "Files already downloaded and verified\n"
     ]
    }
   ],
   "source": [
    "# Load CIFAR-10 dataset\n",
    "train_dataset = datasets.CIFAR10(root='./data', train=True, download=True, transform=transform_train)\n",
    "test_dataset = datasets.CIFAR10(root='./data', train=False, download=True, transform=transform_test)"
   ]
  },
  {
   "cell_type": "code",
   "execution_count": 4,
   "id": "63f022b1",
   "metadata": {},
   "outputs": [
    {
     "data": {
      "image/png": "[encoded data removed]",
      "text/plain": [
       "<Figure size 1200x400 with 5 Axes>"
      ]
     },
     "metadata": {},
     "output_type": "display_data"
    }
   ],
   "source": [
    "import matplotlib.pyplot as plt\n",
    "import numpy as np\n",
    "\n",
    "# Function to display a random batch of images\n",
    "def show_images(dataset, num_images=5):\n",
    "    # Create a random sampler for selecting a batch of images\n",
    "    sampler = torch.utils.data.RandomSampler(dataset, replacement=True, num_samples=num_images)\n",
    "    data_loader = torch.utils.data.DataLoader(dataset, batch_size=num_images, sampler=sampler)\n",
    "\n",
    "    # Fetch a batch of images and labels\n",
    "    batch = next(iter(data_loader))\n",
    "    images, labels = batch\n",
    "\n",
    "    # Denormalize the images for visualization\n",
    "    denormalize = transforms.Normalize((-1, -1, -1), (2, 2, 2))\n",
    "    images = denormalize(images)\n",
    "\n",
    "    # Plot the images\n",
    "    plt.figure(figsize=(12, 4))\n",
    "    for i in range(num_images):\n",
    "        plt.subplot(1, num_images, i + 1)\n",
    "        plt.imshow(np.transpose(images[i].numpy(), (1, 2, 0)))\n",
    "        plt.title(f'Class: {labels[i].item()}')\n",
    "        plt.axis('off')\n",
    "    plt.show()\n",
    "\n",
    "# Display 5 random images\n",
    "show_images(train_dataset, num_images=5)\n"
   ]
  },
  {
   "cell_type": "code",
   "execution_count": 5,
   "id": "3e276f47",
   "metadata": {},
   "outputs": [],
   "source": [
    "class ImprovedCNN(nn.Module):\n",
    "    def __init__(self, num_classes=10, base_channels=32, depth_factor=3, width_factor=2):\n",
    "        super(ImprovedCNN, self).__init__()\n",
    "\n",
    "        # Initial convolutional layer\n",
    "        self.conv1 = nn.Conv2d(3, base_channels * width_factor, kernel_size=3, padding=1)\n",
    "        self.relu = nn.ReLU(inplace=True)\n",
    "        self.batchnorm = nn.BatchNorm2d(base_channels * width_factor)\n",
    "\n",
    "        # List to store convolutional blocks\n",
    "        self.conv_blocks = nn.ModuleList()\n",
    "\n",
    "        # Depth variations\n",
    "        for _ in range(depth_factor):\n",
    "            self._add_conv_block(base_channels * width_factor)\n",
    "\n",
    "        # Skip connection\n",
    "        self.skip_connection = nn.Conv2d(base_channels * width_factor, base_channels * width_factor, kernel_size=1, stride=1, padding=0)\n",
    "\n",
    "        # Global Average Pooling (GAP)\n",
    "        self.global_avg_pooling = nn.AdaptiveAvgPool2d(1)\n",
    "\n",
    "        # Fully connected layer\n",
    "        self.fc = nn.Linear(base_channels * width_factor, num_classes)\n",
    "\n",
    "    def _add_conv_block(self, in_channels):\n",
    "        conv_block = self._conv_block(in_channels, in_channels)\n",
    "        self.conv_blocks.append(conv_block)\n",
    "\n",
    "    def _conv_block(self, in_channels, out_channels):\n",
    "        return nn.Sequential(\n",
    "            nn.Conv2d(in_channels, out_channels, kernel_size=3, padding=1),\n",
    "            nn.ReLU(inplace=True),\n",
    "            nn.BatchNorm2d(out_channels),\n",
    "            nn.Conv2d(out_channels, out_channels, kernel_size=3, padding=1),\n",
    "            nn.ReLU(inplace=True),\n",
    "            nn.BatchNorm2d(out_channels),\n",
    "            nn.MaxPool2d(kernel_size=2, stride=2)\n",
    "        )\n",
    "\n",
    "    def forward(self, x):\n",
    "        # Initial convolutional layer\n",
    "        x = self.conv1(x)\n",
    "        x = self.relu(x)\n",
    "        x = self.batchnorm(x)\n",
    "\n",
    "        # Depth variations with skip connection\n",
    "        residual = x\n",
    "        for conv_block in self.conv_blocks:\n",
    "            x = conv_block(x)\n",
    "\n",
    "        # Apply 1x1 convolution to the residual to match channels and downsample spatial dimensions\n",
    "        residual = self.skip_connection(residual)\n",
    "        residual = F.adaptive_avg_pool2d(residual, (x.size(2), x.size(3)))\n",
    "\n",
    "        # Add the residual to the output of the convolutional blocks\n",
    "        x += residual\n",
    "\n",
    "        x = self.relu(x)\n",
    "\n",
    "        # Global Average Pooling\n",
    "        x = self.global_avg_pooling(x)\n",
    "\n",
    "        # Fully connected layer\n",
    "        x = x.view(x.size(0), -1)\n",
    "        logits = self.fc(x)\n",
    "\n",
    "        # Apply softmax activation\n",
    "        probabilities = F.softmax(logits, dim=1)\n",
    "\n",
    "        return probabilities\n",
    "\n",
    "model = ImprovedCNN(num_classes=10, base_channels=32, depth_factor=3, width_factor=2)"
   ]
  },
  {
   "cell_type": "code",
   "execution_count": 6,
   "id": "8ebc9bf5",
   "metadata": {},
   "outputs": [],
   "source": [
    "#Define the loss function\n",
    "criterion = nn.CrossEntropyLoss()"
   ]
  },
  {
   "cell_type": "code",
   "execution_count": 7,
   "id": "1a9cd71d",
   "metadata": {},
   "outputs": [],
   "source": [
    "#choose an optimizer., Here i am choosing SGD \n",
    "optimizer = torch.optim.SGD(model.parameters(), lr=0.01, momentum=0.9)"
   ]
  },
  {
   "cell_type": "code",
   "execution_count": 8,
   "id": "b1224865",
   "metadata": {},
   "outputs": [],
   "source": [
    "#Create data loaders\n",
    "train_loader = torch.utils.data.DataLoader(train_dataset, batch_size=64, shuffle=True)\n",
    "test_loader = torch.utils.data.DataLoader(test_dataset, batch_size=64, shuffle=False)"
   ]
  },
  {
   "cell_type": "code",
   "execution_count": 11,
   "id": "5f18e445",
   "metadata": {},
   "outputs": [
    {
     "name": "stdout",
     "output_type": "stream",
     "text": [
      "Epoch 1/10\n",
      "Epoch [1/10] - Loss: 1.9364101886749268, Training Accuracy: 39.89%\n",
      "Epoch 2/10\n",
      "Epoch [2/10] - Loss: 1.8754396438598633, Training Accuracy: 55.59%\n",
      "Epoch 3/10\n",
      "Epoch [3/10] - Loss: 1.8563275337219238, Training Accuracy: 61.63%\n",
      "Epoch 4/10\n",
      "Epoch [4/10] - Loss: 1.9774783849716187, Training Accuracy: 65.70%\n",
      "Epoch 5/10\n",
      "Epoch [5/10] - Loss: 1.6893439292907715, Training Accuracy: 68.30%\n",
      "Epoch 6/10\n",
      "Epoch [6/10] - Loss: 1.7621469497680664, Training Accuracy: 70.38%\n",
      "Epoch 7/10\n",
      "Epoch [7/10] - Loss: 1.6444251537322998, Training Accuracy: 72.12%\n",
      "Epoch 8/10\n",
      "Epoch [8/10] - Loss: 1.8247110843658447, Training Accuracy: 73.23%\n",
      "Epoch 9/10\n",
      "Epoch [9/10] - Loss: 1.7325525283813477, Training Accuracy: 74.41%\n",
      "Epoch 10/10\n",
      "Epoch [10/10] - Loss: 1.7080984115600586, Training Accuracy: 75.17%\n"
     ]
    }
   ],
   "source": [
    "# Training loop\n",
    "import torch.nn.functional as F\n",
    "num_epochs = 10\n",
    "    \n",
    "for epoch in range(num_epochs):\n",
    "    total_correct_train = 0\n",
    "    total_samples_train = 0\n",
    "    print(f\"Epoch {epoch + 1}/{num_epochs}\")\n",
    "    try:\n",
    "        model.train()  # Set model to training mode\n",
    "        for inputs, labels in train_loader:\n",
    "            optimizer.zero_grad()\n",
    "            outputs = model(inputs)\n",
    "            loss = criterion(outputs, labels)\n",
    "            loss.backward()\n",
    "            optimizer.step()\n",
    "\n",
    "            # Calculate accuracy\n",
    "            predictions = outputs.argmax(dim=1)\n",
    "            total_correct_train += (predictions == labels).sum().item()\n",
    "            total_samples_train += labels.size(0)\n",
    "\n",
    "        # Calculate accuracy for the entire epoch\n",
    "        accuracy_train = total_correct_train / total_samples_train\n",
    "\n",
    "        print(f\"Epoch [{epoch+1}/{num_epochs}] - Loss: {loss.item()}, Training Accuracy: {accuracy_train*100:.2f}%\")\n",
    "    except Exception as e:\n",
    "        print(f\"An exception occurred: {e}\")\n"
   ]
  },
  {
   "cell_type": "code",
   "execution_count": 12,
   "id": "1e8c8997",
   "metadata": {},
   "outputs": [
    {
     "name": "stdout",
     "output_type": "stream",
     "text": [
      "Accuracy on test set: 79.44%\n"
     ]
    }
   ],
   "source": [
    "#Validate the model\n",
    "model.eval()\n",
    "with torch.no_grad():\n",
    "    correct = 0\n",
    "    total = 0\n",
    "    for inputs, labels in test_loader:\n",
    "        outputs = model(inputs)\n",
    "        _, predicted = torch.max(outputs, 1)\n",
    "        total += labels.size(0)\n",
    "        correct += (predicted == labels).sum().item()\n",
    "\n",
    "    accuracy = correct / total\n",
    "    print(f'Accuracy on test set: {accuracy * 100:.2f}%')"
   ]
  },
  {
   "cell_type": "markdown",
   "id": "0ca8c1b1",
   "metadata": {},
   "source": [
    "# Hyperparameter Tuning"
   ]
  },
  {
   "cell_type": "code",
   "execution_count": 27,
   "id": "db1d5fd3",
   "metadata": {},
   "outputs": [
    {
     "name": "stdout",
     "output_type": "stream",
     "text": [
      "Files already downloaded and verified\n",
      "Files already downloaded and verified\n"
     ]
    }
   ],
   "source": [
    "from torchvision.datasets import CIFAR10\n",
    "from sklearn.model_selection import ParameterGrid\n",
    "from tqdm import tqdm\n",
    "\n",
    "# Load CIFAR-10 dataset\n",
    "transform = transforms.Compose([\n",
    "    transforms.ToTensor(),\n",
    "    transforms.Normalize((0.5, 0.5, 0.5), (0.5, 0.5, 0.5)),\n",
    "])\n",
    "\n",
    "train_dataset_tuning = CIFAR10(root='./data', train=True, download=True, transform=transform)\n",
    "train_loader_tuning = DataLoader(train_dataset_tuning, batch_size=64, shuffle=True, num_workers=4)\n",
    "\n",
    "val_dataset_tuning = CIFAR10(root='./data', train=False, download=True, transform=transform)\n",
    "val_loader_tuning = DataLoader(val_dataset_tuning, batch_size=64, shuffle=False, num_workers=4)\n",
    "\n",
    "# Define the hyperparameter search space\n",
    "param_grid_improved_cnn = {\n",
    "    'num_classes': [10],\n",
    "    'base_channels': [32, 64],\n",
    "    'depth_factor': [2, 3],\n",
    "    'width_factor': [2, 3],\n",
    "}\n",
    "\n",
    "# Generate all combinations of hyperparameters\n",
    "param_combinations = list(ParameterGrid(param_grid_improved_cnn))"
   ]
  },
  {
   "cell_type": "code",
   "execution_count": 30,
   "id": "bd9cbb96",
   "metadata": {},
   "outputs": [],
   "source": [
    "# Training and validation functions\n",
    "def train_model(model, train_loader_tuning, optimizer, criterion, device):\n",
    "    # Your training loop implementation\n",
    "    model.train()\n",
    "    print(f\"Epoch {epoch + 1}/{num_epochs}\")\n",
    "    for inputs, labels in train_loader_tuning:\n",
    "        optimizer.zero_grad()\n",
    "        outputs = model(inputs.to(device))\n",
    "        loss = criterion(outputs, labels.to(device))\n",
    "        loss.backward()\n",
    "        optimizer.step()\n",
    "    print(f\"Epoch [{epoch+1}/{num_epochs}] - Loss: {loss.item()}, Training Accuracy: {accuracy_train*100:.2f}%\")\n",
    "\n",
    "\n",
    "def validate_model(model, val_loader_tuning, criterion, device):\n",
    "    # Your validation loop and accuracy calculation implementation\n",
    "    model.eval()\n",
    "    correct = 0\n",
    "    total = 0\n",
    "    with torch.no_grad():\n",
    "        for inputs, labels in val_loader_tuning:\n",
    "            outputs = model(inputs.to(device))\n",
    "            _, predicted = torch.max(outputs.data, 1)\n",
    "            total += labels.size(0)\n",
    "            correct += (predicted == labels.to(device)).sum().item()\n",
    "    accuracy = correct / total\n",
    "    print(f'Accuracy on test set: {accuracy * 100:.2f}%')\n",
    "    return accuracy"
   ]
  },
  {
   "cell_type": "code",
   "execution_count": 31,
   "id": "c67aae77",
   "metadata": {},
   "outputs": [
    {
     "name": "stderr",
     "output_type": "stream",
     "text": [
      "Hyperparameter Tuning:   0%|                                                                     | 0/8 [00:00<?, ?it/s]"
     ]
    },
    {
     "name": "stdout",
     "output_type": "stream",
     "text": [
      "Epoch 1/5\n",
      "Epoch [1/5] - Loss: 2.281503200531006, Training Accuracy: 75.17%\n",
      "Epoch 2/5\n",
      "Epoch [2/5] - Loss: 2.2784671783447266, Training Accuracy: 75.17%\n",
      "Epoch 3/5\n",
      "Epoch [3/5] - Loss: 2.2823212146759033, Training Accuracy: 75.17%\n",
      "Epoch 4/5\n",
      "Epoch [4/5] - Loss: 2.2490930557250977, Training Accuracy: 75.17%\n",
      "Epoch 5/5\n",
      "Epoch [5/5] - Loss: 2.2679643630981445, Training Accuracy: 75.17%\n"
     ]
    },
    {
     "name": "stderr",
     "output_type": "stream",
     "text": [
      "Hyperparameter Tuning:  12%|██████▊                                               | 1/8 [1:51:11<12:58:23, 6671.95s/it]"
     ]
    },
    {
     "name": "stdout",
     "output_type": "stream",
     "text": [
      "Accuracy on test set: 24.50%\n",
      "Epoch 1/5\n",
      "Epoch [1/5] - Loss: 2.2262959480285645, Training Accuracy: 75.17%\n",
      "Epoch 2/5\n",
      "Epoch [2/5] - Loss: 2.263118267059326, Training Accuracy: 75.17%\n",
      "Epoch 3/5\n",
      "Epoch [3/5] - Loss: 2.2638769149780273, Training Accuracy: 75.17%\n",
      "Epoch 4/5\n",
      "Epoch [4/5] - Loss: 2.1831376552581787, Training Accuracy: 75.17%\n",
      "Epoch 5/5\n",
      "Epoch [5/5] - Loss: 2.2840943336486816, Training Accuracy: 75.17%\n"
     ]
    },
    {
     "name": "stderr",
     "output_type": "stream",
     "text": [
      "Hyperparameter Tuning:  25%|█████████████▌                                        | 2/8 [4:47:09<14:55:43, 8957.33s/it]"
     ]
    },
    {
     "name": "stdout",
     "output_type": "stream",
     "text": [
      "Accuracy on test set: 28.47%\n",
      "Epoch 1/5\n",
      "Epoch [1/5] - Loss: 2.298845052719116, Training Accuracy: 75.17%\n",
      "Epoch 2/5\n",
      "Epoch [2/5] - Loss: 2.2066361904144287, Training Accuracy: 75.17%\n",
      "Epoch 3/5\n",
      "Epoch [3/5] - Loss: 2.1544976234436035, Training Accuracy: 75.17%\n",
      "Epoch 4/5\n",
      "Epoch [4/5] - Loss: 2.2871627807617188, Training Accuracy: 75.17%\n",
      "Epoch 5/5\n",
      "Epoch [5/5] - Loss: 2.133356809616089, Training Accuracy: 75.17%\n"
     ]
    },
    {
     "name": "stderr",
     "output_type": "stream",
     "text": [
      "Hyperparameter Tuning:  38%|████████████████████▎                                 | 3/8 [6:23:32<10:25:40, 7508.12s/it]"
     ]
    },
    {
     "name": "stdout",
     "output_type": "stream",
     "text": [
      "Accuracy on test set: 34.02%\n",
      "Epoch 1/5\n",
      "Epoch [1/5] - Loss: 2.2046473026275635, Training Accuracy: 75.17%\n",
      "Epoch 2/5\n",
      "Epoch [2/5] - Loss: 2.136115789413452, Training Accuracy: 75.17%\n",
      "Epoch 3/5\n",
      "Epoch [3/5] - Loss: 2.0502476692199707, Training Accuracy: 75.17%\n",
      "Epoch 4/5\n",
      "Epoch [4/5] - Loss: 2.1307756900787354, Training Accuracy: 75.17%\n",
      "Epoch 5/5\n",
      "Epoch [5/5] - Loss: 2.0995845794677734, Training Accuracy: 75.17%\n"
     ]
    },
    {
     "name": "stderr",
     "output_type": "stream",
     "text": [
      "Hyperparameter Tuning:  50%|██████████████████████████                          | 4/8 [11:52:01<13:41:40, 12325.04s/it]"
     ]
    },
    {
     "name": "stdout",
     "output_type": "stream",
     "text": [
      "Accuracy on test set: 39.49%\n",
      "Epoch 1/5\n",
      "Epoch [1/5] - Loss: 2.287260055541992, Training Accuracy: 75.17%\n",
      "Epoch 2/5\n",
      "Epoch [2/5] - Loss: 2.1904139518737793, Training Accuracy: 75.17%\n",
      "Epoch 3/5\n",
      "Epoch [3/5] - Loss: 2.246518850326538, Training Accuracy: 75.17%\n",
      "Epoch 4/5\n",
      "Epoch [4/5] - Loss: 2.1981875896453857, Training Accuracy: 75.17%\n",
      "Epoch 5/5\n",
      "Epoch [5/5] - Loss: 2.0900931358337402, Training Accuracy: 75.17%\n"
     ]
    },
    {
     "name": "stderr",
     "output_type": "stream",
     "text": [
      "Hyperparameter Tuning:  62%|████████████████████████████████▌                   | 5/8 [15:36:54<10:37:18, 12746.04s/it]"
     ]
    },
    {
     "name": "stdout",
     "output_type": "stream",
     "text": [
      "Accuracy on test set: 31.10%\n",
      "Epoch 1/5\n",
      "Epoch [1/5] - Loss: 2.2834441661834717, Training Accuracy: 75.17%\n",
      "Epoch 2/5\n",
      "Epoch [2/5] - Loss: 2.222559928894043, Training Accuracy: 75.17%\n",
      "Epoch 3/5\n",
      "Epoch [3/5] - Loss: 2.149503469467163, Training Accuracy: 75.17%\n",
      "Epoch 4/5\n",
      "Epoch [4/5] - Loss: 2.129117965698242, Training Accuracy: 75.17%\n",
      "Epoch 5/5\n",
      "Epoch [5/5] - Loss: 2.2133119106292725, Training Accuracy: 75.17%\n"
     ]
    },
    {
     "name": "stderr",
     "output_type": "stream",
     "text": [
      "Hyperparameter Tuning:  75%|███████████████████████████████████████▊             | 6/8 [23:04:47<9:44:58, 17549.30s/it]"
     ]
    },
    {
     "name": "stdout",
     "output_type": "stream",
     "text": [
      "Accuracy on test set: 36.27%\n",
      "Epoch 1/5\n",
      "Epoch [1/5] - Loss: 2.2411389350891113, Training Accuracy: 75.17%\n",
      "Epoch 2/5\n",
      "Epoch [2/5] - Loss: 2.3141489028930664, Training Accuracy: 75.17%\n",
      "Epoch 3/5\n",
      "Epoch [3/5] - Loss: 2.1763522624969482, Training Accuracy: 75.17%\n",
      "Epoch 4/5\n",
      "Epoch [4/5] - Loss: 2.0462453365325928, Training Accuracy: 75.17%\n",
      "Epoch 5/5\n",
      "Epoch [5/5] - Loss: 2.08514142036438, Training Accuracy: 75.17%\n"
     ]
    },
    {
     "name": "stderr",
     "output_type": "stream",
     "text": [
      "Hyperparameter Tuning:  88%|██████████████████████████████████████████████▍      | 7/8 [27:40:12<4:46:54, 17214.19s/it]"
     ]
    },
    {
     "name": "stdout",
     "output_type": "stream",
     "text": [
      "Accuracy on test set: 39.38%\n",
      "Epoch 1/5\n",
      "Epoch [1/5] - Loss: 2.2882895469665527, Training Accuracy: 75.17%\n",
      "Epoch 2/5\n",
      "Epoch [2/5] - Loss: 2.057046413421631, Training Accuracy: 75.17%\n",
      "Epoch 3/5\n",
      "Epoch [3/5] - Loss: 2.07456636428833, Training Accuracy: 75.17%\n",
      "Epoch 4/5\n",
      "Epoch [4/5] - Loss: 2.0788722038269043, Training Accuracy: 75.17%\n",
      "Epoch 5/5\n",
      "Epoch [5/5] - Loss: 2.0927321910858154, Training Accuracy: 75.17%\n"
     ]
    },
    {
     "name": "stderr",
     "output_type": "stream",
     "text": [
      "Hyperparameter Tuning: 100%|███████████████████████████████████████████████████████| 8/8 [51:52:30<00:00, 23343.85s/it]"
     ]
    },
    {
     "name": "stdout",
     "output_type": "stream",
     "text": [
      "Accuracy on test set: 45.31%\n",
      "Best Hyperparameters: {'base_channels': 64, 'depth_factor': 3, 'num_classes': 10, 'width_factor': 3}\n",
      "Best Validation Accuracy: 45.31%\n"
     ]
    },
    {
     "name": "stderr",
     "output_type": "stream",
     "text": [
      "\n"
     ]
    }
   ],
   "source": [
    "# Set the number of epochs\n",
    "num_epochs = 5\n",
    "\n",
    "best_accuracy = 0.0\n",
    "best_params = None\n",
    "\n",
    "for params in tqdm(param_combinations, desc=\"Hyperparameter Tuning\"):\n",
    "    \n",
    "    model = ImprovedCNN(**params)\n",
    "    optimizer = optim.SGD(model.parameters(), lr=0.001)\n",
    "    criterion = nn.CrossEntropyLoss()\n",
    "    device = torch.device(\"cuda\" if torch.cuda.is_available() else \"cpu\")\n",
    "    model.to(device)\n",
    "+\n",
    "    for epoch in range(num_epochs):\n",
    "        train_model(model, train_loader_tuning, optimizer, criterion, device)\n",
    "\n",
    "    accuracy = validate_model(model, val_loader_tuning, criterion, device)\n",
    "\n",
    "    if accuracy > best_accuracy:\n",
    "        best_accuracy = accuracy\n",
    "        best_params = params\n",
    "\n",
    "print(f\"Best Hyperparameters: {best_params}\")\n",
    "print(f\"Best Validation Accuracy: {best_accuracy * 100:.2f}%\")\n"
   ]
  },
  {
   "cell_type": "code",
   "execution_count": null,
   "id": "4e6947bd",
   "metadata": {},
   "outputs": [],
   "source": []
  }
 ],
 "metadata": {
  "kernelspec": {
   "display_name": "Python 3 (ipykernel)",
   "language": "python",
   "name": "python3"
  },
  "language_info": {
   "codemirror_mode": {
    "name": "ipython",
    "version": 3
   },
   "file_extension": ".py",
   "mimetype": "text/x-python",
   "name": "python",
   "nbconvert_exporter": "python",
   "pygments_lexer": "ipython3",
   "version": "3.11.5"
  }
 },
 "nbformat": 4,
 "nbformat_minor": 5
}
